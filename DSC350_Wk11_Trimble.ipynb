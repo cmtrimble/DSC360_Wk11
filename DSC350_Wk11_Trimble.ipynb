{
 "cells": [
  {
   "metadata": {},
   "cell_type": "markdown",
   "source": [
    "Title: DSC350 Week 6 Exercises  \n",
    "Author: Armando Fandango  \n",
    "Date: 10 November 2024  \n",
    "Modified By: Caleb Trimble  \n",
    "Description: This program executes various functions relevent to SQLite.  \n",
    "Codes in this program have been adapted from Python Data Analysis-Second Edition (Fandango A., 2017). "
   ],
   "id": "77c4b95037457b5a"
  },
  {
   "cell_type": "code",
   "id": "initial_id",
   "metadata": {
    "collapsed": true,
    "ExecuteTime": {
     "end_time": "2024-11-10T14:57:02.753697Z",
     "start_time": "2024-11-10T14:57:02.748820Z"
    }
   },
   "source": [
    "import sqlite3\n",
    "\n",
    "# Creates the sensors table\n",
    "with sqlite3.connect(\":memory:\") as con:\n",
    "    c = con.cursor()\n",
    "    c.execute('''CREATE TABLE sensors (date text, city text, code text, sensor_id real, temperature real)''')\n",
    "\n",
    "    for table in c.execute(\"SELECT name FROM sqlite_master WHERE type = 'table'\"):\n",
    "        print(\"Table\", table[0])\n",
    "\n",
    "    c.execute(\"INSERT INTO sensors VALUES ('2016-11-05','Utrecht','Red',42,15.14)\")\n",
    "    c.execute(\"SELECT * FROM sensors\")\n",
    "    print(c.fetchone())\n",
    "    con.execute(\"DROP TABLE sensors\")\n",
    "\n",
    "    print(\"# of tables\", c.execute(\"SELECT COUNT(*) FROM sqlite_master WHERE type = 'table'\").fetchone()[0])\n",
    "\n",
    "    c.close()"
   ],
   "outputs": [
    {
     "name": "stdout",
     "output_type": "stream",
     "text": [
      "Table sensors\n",
      "('2016-11-05', 'Utrecht', 'Red', 42.0, 15.14)\n",
      "# of tables 0\n"
     ]
    }
   ],
   "execution_count": 4
  },
  {
   "metadata": {
    "ExecuteTime": {
     "end_time": "2024-11-10T14:57:02.768374Z",
     "start_time": "2024-11-10T14:57:02.754870Z"
    }
   },
   "cell_type": "code",
   "source": [
    "import pandas as pd\n",
    "import sqlite3\n",
    "\n",
    "# Creates a list of tuples and DataFrame\n",
    "data = [\n",
    "    (1720, 'Moderate'),\n",
    "    (1730, 'Low'),\n",
    "    (1740, 'High'),\n",
    "    (1750, 'Very High'),\n",
    "    (1760, 'Low')\n",
    "]\n",
    "df = pd.DataFrame(data, columns=['Year', 'SunActivity'])\n",
    "print(df)\n",
    "\n",
    "# Connects to SQLite and create the table\n",
    "conn = sqlite3.connect(':memory:')\n",
    "cursor = conn.cursor()\n",
    "cursor.execute('''\n",
    "CREATE TABLE solar_activity (\n",
    "    Year,\n",
    "    SunActivity\n",
    ")\n",
    "''')\n",
    "\n",
    "# Inserts records and show row count\n",
    "for row in data:\n",
    "    cursor.execute('INSERT INTO solar_activity VALUES (?, ?)', row)\n",
    "conn.commit()\n",
    "cursor.execute('SELECT COUNT(*) FROM solar_activity')\n",
    "row_count = cursor.fetchone()[0]\n",
    "print(f\"Row count: {row_count}\")\n",
    "\n",
    "# Adds a mapping for SunActivity values\n",
    "activity_mapping = {'Low': 5, 'Moderate': 15, 'High': 25, 'Very High': 30}\n",
    "df['ActivityValue'] = df['SunActivity'].map(activity_mapping)\n",
    "\n",
    "# Inserts the DataFrame with ActivityValue\n",
    "for index, row in df.iterrows():\n",
    "    cursor.execute('INSERT INTO solar_activity (Year, SunActivity) VALUES (?, ?)', (row['Year'], row['ActivityValue']))\n",
    "conn.commit()\n",
    "\n",
    "# Deletes records where sun activity is greater than 20\n",
    "cursor.execute('DELETE FROM solar_activity WHERE SunActivity > 20')\n",
    "conn.commit()\n",
    "\n",
    "# Selects data where the year is less than 1732\n",
    "cursor.execute('SELECT * FROM solar_activity WHERE Year < 1732')\n",
    "results = cursor.fetchall()\n",
    "for row in results:\n",
    "    print(row)\n",
    "\n",
    "# Closes the connection\n",
    "conn.close()\n"
   ],
   "id": "e0cc9036e21c1419",
   "outputs": [
    {
     "name": "stdout",
     "output_type": "stream",
     "text": [
      "   Year SunActivity\n",
      "0  1720    Moderate\n",
      "1  1730         Low\n",
      "2  1740        High\n",
      "3  1750   Very High\n",
      "4  1760         Low\n",
      "Row count: 5\n",
      "(1720, 15)\n",
      "(1730, 5)\n"
     ]
    }
   ],
   "execution_count": 5
  },
  {
   "metadata": {
    "ExecuteTime": {
     "end_time": "2024-11-10T15:43:46.607489Z",
     "start_time": "2024-11-10T15:43:46.585141Z"
    }
   },
   "cell_type": "code",
   "source": [
    "from sqlalchemy import create_engine, Column, Integer, String, Float\n",
    "from sqlalchemy.orm import declarative_base, sessionmaker\n",
    "\n",
    "# Defines the superclass\n",
    "Base = declarative_base()\n",
    "\n",
    "# Creates the DBSession\n",
    "engine = create_engine('sqlite:///example.db')\n",
    "Session = sessionmaker(bind=engine)\n",
    "session = Session()\n",
    "\n",
    "# Creates models and commits the Session\n",
    "class Station(Base):\n",
    "    __tablename__ = 'stations'\n",
    "    id = Column(Integer, primary_key=True)\n",
    "    name = Column(String)\n",
    "\n",
    "class Sensor(Base):\n",
    "    __tablename__ = 'sensors'\n",
    "    id = Column(Integer, primary_key=True)\n",
    "    station_id = Column(Integer)\n",
    "    sensor_type = Column(String)\n",
    "    value = Column(Float)\n",
    "\n",
    "# Creates the tables\n",
    "Base.metadata.create_all(engine)\n",
    "\n",
    "# Creates two station records\n",
    "station1 = Station(name=\"Station A\")\n",
    "station2 = Station(name=\"Station B\")\n",
    "\n",
    "# Adds and commits the stations\n",
    "session.add(station1)\n",
    "session.add(station2)\n",
    "session.commit()\n",
    "\n",
    "# Inserts a Sensor Record\n",
    "sensor1 = Sensor(station_id=station1.id, sensor_type=\"Temperature\", value=23.5)\n",
    "\n",
    "# Adds and s the sensor record\n",
    "session.add(sensor1)\n",
    "session.commit()\n"
   ],
   "id": "be15245fc944e692",
   "outputs": [],
   "execution_count": 8
  },
  {
   "metadata": {
    "ExecuteTime": {
     "end_time": "2024-11-10T14:57:03.081673Z",
     "start_time": "2024-11-10T14:57:03.063903Z"
    }
   },
   "cell_type": "code",
   "source": [
    "from sqlalchemy import create_engine, Column, Integer, String, Float, ForeignKey\n",
    "from sqlalchemy.ext.declarative import declarative_base\n",
    "from sqlalchemy.orm import sessionmaker\n",
    "import pandas as pd\n",
    "\n",
    "# Creates an Engine from a URI\n",
    "engine = create_engine('sqlite:///example.db')\n",
    "\n",
    "# Creates the Station and Sensor Tables\n",
    "Base = declarative_base()\n",
    "\n",
    "class Station(Base):\n",
    "    __tablename__ = 'stations'\n",
    "    id = Column(Integer, primary_key=True)\n",
    "    name = Column(String)\n",
    "\n",
    "class Sensor(Base):\n",
    "    __tablename__ = 'sensors'\n",
    "    id = Column(Integer, primary_key=True)\n",
    "    station_id = Column(Integer, ForeignKey('stations.id'))\n",
    "    sensor_type = Column(String)\n",
    "    value = Column(Float)\n",
    "\n",
    "Base.metadata.create_all(engine)\n",
    "\n",
    "# Creates a DBSession Object\n",
    "Session = sessionmaker(bind=engine)\n",
    "session = Session()\n",
    "\n",
    "# Selects the First Row in the Station Table\n",
    "first_station = session.query(Station).first()\n",
    "print(first_station)\n",
    "\n",
    "# Selects All the Stations\n",
    "all_stations = session.query(Station).all()\n",
    "for station in all_stations:\n",
    "    print(station)\n",
    "\n",
    "# Selects All the Sensors\n",
    "all_sensors = session.query(Sensor).all()\n",
    "for sensor in all_sensors:\n",
    "    print(sensor)\n",
    "\n",
    "# Selects the First Sensor, Which Belongs to the First Station\n",
    "first_sensor_of_first_station = session.query(Sensor).filter(Sensor.station_id == first_station.id).first()\n",
    "print(first_sensor_of_first_station)\n",
    "\n",
    "# Queries the Station Table with pandas read_sql()\n",
    "df_stations = pd.read_sql('SELECT * FROM stations', engine)\n",
    "print(df_stations)\n"
   ],
   "id": "ec99b217169e0296",
   "outputs": [
    {
     "name": "stdout",
     "output_type": "stream",
     "text": [
      "<__main__.Station object at 0x00000223E2381BD0>\n",
      "<__main__.Station object at 0x00000223E2381BD0>\n",
      "<__main__.Station object at 0x00000223E2382DD0>\n",
      "<__main__.Sensor object at 0x00000223E2398A10>\n",
      "<__main__.Sensor object at 0x00000223E2398A10>\n",
      "   id       name\n",
      "0   1  Station A\n",
      "1   2  Station B\n"
     ]
    },
    {
     "name": "stderr",
     "output_type": "stream",
     "text": [
      "C:\\Users\\caleb\\AppData\\Local\\Temp\\ipykernel_3200\\1042057212.py:10: MovedIn20Warning: The ``declarative_base()`` function is now available as sqlalchemy.orm.declarative_base(). (deprecated since: 2.0) (Background on SQLAlchemy 2.0 at: https://sqlalche.me/e/b8d9)\n",
      "  Base = declarative_base()\n"
     ]
    }
   ],
   "execution_count": 7
  }
 ],
 "metadata": {
  "kernelspec": {
   "display_name": "Python 3",
   "language": "python",
   "name": "python3"
  },
  "language_info": {
   "codemirror_mode": {
    "name": "ipython",
    "version": 2
   },
   "file_extension": ".py",
   "mimetype": "text/x-python",
   "name": "python",
   "nbconvert_exporter": "python",
   "pygments_lexer": "ipython2",
   "version": "2.7.6"
  }
 },
 "nbformat": 4,
 "nbformat_minor": 5
}
